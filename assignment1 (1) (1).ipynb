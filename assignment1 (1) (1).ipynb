{
 "cells": [
  {
   "cell_type": "code",
   "execution_count": 32,
   "metadata": {},
   "outputs": [],
   "source": [
    "#Q1) \n",
    "#I) \n",
    "a=\"sartajansari\""
   ]
  },
  {
   "cell_type": "code",
   "execution_count": 3,
   "metadata": {},
   "outputs": [],
   "source": [
    "#II)\n",
    "b=[55,\"nayan\",True,67]"
   ]
  },
  {
   "cell_type": "code",
   "execution_count": 4,
   "metadata": {},
   "outputs": [],
   "source": [
    "#III)\n",
    "c=5.52"
   ]
  },
  {
   "cell_type": "code",
   "execution_count": 8,
   "metadata": {},
   "outputs": [],
   "source": [
    "#IV)\n",
    "z=(2,3,\"taslim\",False)"
   ]
  },
  {
   "cell_type": "code",
   "execution_count": null,
   "metadata": {},
   "outputs": [],
   "source": []
  },
  {
   "cell_type": "code",
   "execution_count": 9,
   "metadata": {},
   "outputs": [],
   "source": [
    "#Q2)"
   ]
  },
  {
   "cell_type": "code",
   "execution_count": 15,
   "metadata": {},
   "outputs": [],
   "source": [
    "#I) str\n",
    "#II) str\n",
    "#III) list\n",
    "#Iv) int\n",
    "#v) float"
   ]
  },
  {
   "cell_type": "code",
   "execution_count": null,
   "metadata": {},
   "outputs": [],
   "source": []
  },
  {
   "cell_type": "code",
   "execution_count": 29,
   "metadata": {},
   "outputs": [
    {
     "data": {
      "text/plain": [
       "0.8333333333333334"
      ]
     },
     "execution_count": 29,
     "metadata": {},
     "output_type": "execute_result"
    }
   ],
   "source": [
    "#Q3)\n",
    "#I) / shows the division arthimetic operator that is the output  will be the value which we get after deviding 5 by 6\n",
    "5/6\n"
   ]
  },
  {
   "cell_type": "code",
   "execution_count": 26,
   "metadata": {},
   "outputs": [
    {
     "data": {
      "text/plain": [
       "0"
      ]
     },
     "execution_count": 26,
     "metadata": {},
     "output_type": "execute_result"
    }
   ],
   "source": [
    "#II) % shows arithmetic operator used to get remainder when we devide an integer by another integer\n",
    "10%5"
   ]
  },
  {
   "cell_type": "code",
   "execution_count": 27,
   "metadata": {},
   "outputs": [
    {
     "data": {
      "text/plain": [
       "1"
      ]
     },
     "execution_count": 27,
     "metadata": {},
     "output_type": "execute_result"
    }
   ],
   "source": [
    "#III) // shows floor division which gives the the greatest integr less than or equal to the output when we devide one number by another\n",
    "6//4"
   ]
  },
  {
   "cell_type": "code",
   "execution_count": 28,
   "metadata": {},
   "outputs": [
    {
     "data": {
      "text/plain": [
       "1024"
      ]
     },
     "execution_count": 28,
     "metadata": {},
     "output_type": "execute_result"
    }
   ],
   "source": [
    "#IV) ** is exponential arithmetic operator which performs the power of a number \n",
    "4**5\n"
   ]
  },
  {
   "cell_type": "code",
   "execution_count": null,
   "metadata": {},
   "outputs": [],
   "source": []
  },
  {
   "cell_type": "code",
   "execution_count": 41,
   "metadata": {},
   "outputs": [],
   "source": [
    "#Q4)\n",
    "l=[4,\"viru\",\"vishal\",True,False,6.4,66,\"Taslim\",83,7.3]"
   ]
  },
  {
   "cell_type": "code",
   "execution_count": 47,
   "metadata": {},
   "outputs": [
    {
     "name": "stdout",
     "output_type": "stream",
     "text": [
      "4\n",
      "<class 'int'>\n",
      "viru\n",
      "<class 'str'>\n",
      "vishal\n",
      "<class 'str'>\n",
      "True\n",
      "<class 'bool'>\n",
      "False\n",
      "<class 'bool'>\n",
      "6.4\n",
      "<class 'float'>\n",
      "66\n",
      "<class 'int'>\n",
      "taslim\n",
      "<class 'str'>\n",
      "83\n",
      "<class 'int'>\n",
      "7.3\n",
      "<class 'float'>\n"
     ]
    }
   ],
   "source": [
    "for j in l:\n",
    "    print(j)\n",
    "    print(type(j))\n",
    "    "
   ]
  },
  {
   "cell_type": "code",
   "execution_count": null,
   "metadata": {},
   "outputs": [
    {
     "name": "stdin",
     "output_type": "stream",
     "text": [
      " 100\n",
      " 2\n"
     ]
    },
    {
     "name": "stdout",
     "output_type": "stream",
     "text": [
      "a is divisible by b\n"
     ]
    }
   ],
   "source": [
    "#Q5)\n",
    "i=0\n",
    "while i<1:\n",
    "    a=int(input())\n",
    "    b=int(input())\n",
    "    if a%b==0:\n",
    "        print(\"a is divisible by b\")\n",
    "    else:\n",
    "       print(\" a is not divisible by b\")\n"
   ]
  },
  {
   "cell_type": "code",
   "execution_count": null,
   "metadata": {},
   "outputs": [],
   "source": []
  },
  {
   "cell_type": "code",
   "execution_count": null,
   "metadata": {},
   "outputs": [],
   "source": []
  },
  {
   "cell_type": "code",
   "execution_count": 7,
   "metadata": {},
   "outputs": [],
   "source": [
    "#Q6)\n",
    "l2=[1,3,5,77,88,90,45,65,76,67,56,57,58,34,23,45,46,57,78,89,90,23,21,32,43]"
   ]
  },
  {
   "cell_type": "code",
   "execution_count": 8,
   "metadata": {},
   "outputs": [
    {
     "name": "stdout",
     "output_type": "stream",
     "text": [
      "1\n",
      "is not divisible by 3\n",
      "3\n",
      "is divisible by3\n",
      "5\n",
      "is not divisible by 3\n",
      "77\n",
      "is not divisible by 3\n",
      "88\n",
      "is not divisible by 3\n",
      "90\n",
      "is divisible by3\n",
      "45\n",
      "is divisible by3\n",
      "65\n",
      "is not divisible by 3\n",
      "76\n",
      "is not divisible by 3\n",
      "67\n",
      "is not divisible by 3\n",
      "56\n",
      "is not divisible by 3\n",
      "57\n",
      "is divisible by3\n",
      "58\n",
      "is not divisible by 3\n",
      "34\n",
      "is not divisible by 3\n",
      "23\n",
      "is not divisible by 3\n",
      "45\n",
      "is divisible by3\n",
      "46\n",
      "is not divisible by 3\n",
      "57\n",
      "is divisible by3\n",
      "78\n",
      "is divisible by3\n",
      "89\n",
      "is not divisible by 3\n",
      "90\n",
      "is divisible by3\n",
      "23\n",
      "is not divisible by 3\n",
      "21\n",
      "is divisible by3\n",
      "32\n",
      "is not divisible by 3\n",
      "43\n",
      "is not divisible by 3\n"
     ]
    }
   ],
   "source": [
    "for i in l2:\n",
    "    print(i)\n",
    "    if i%3==0:\n",
    "        \n",
    "        print(\"is divisible by3\")\n",
    "    else:\n",
    "        print(\"is not divisible by 3\")\n",
    "        \n",
    "        "
   ]
  },
  {
   "cell_type": "code",
   "execution_count": null,
   "metadata": {},
   "outputs": [],
   "source": []
  },
  {
   "cell_type": "code",
   "execution_count": 9,
   "metadata": {},
   "outputs": [],
   "source": [
    "#Q7)\n",
    "# those data types whose values can be replaced are called mutable data types for example \n",
    "# lists are mutable data types \n",
    "\n",
    "# those data types whose values can  not  be replaced are called immutable data types for example \n",
    "# strings are immutable data types \n",
    "\n"
   ]
  },
  {
   "cell_type": "code",
   "execution_count": 10,
   "metadata": {},
   "outputs": [],
   "source": [
    "n=[6,7]"
   ]
  },
  {
   "cell_type": "code",
   "execution_count": 13,
   "metadata": {},
   "outputs": [
    {
     "ename": "NameError",
     "evalue": "name 'n' is not defined",
     "output_type": "error",
     "traceback": [
      "\u001b[0;31m---------------------------------------------------------------------------\u001b[0m",
      "\u001b[0;31mNameError\u001b[0m                                 Traceback (most recent call last)",
      "Cell \u001b[0;32mIn[13], line 1\u001b[0m\n\u001b[0;32m----> 1\u001b[0m \u001b[43mn\u001b[49m[\u001b[38;5;241m0\u001b[39m] \u001b[38;5;241m=\u001b[39m \u001b[38;5;124m\"\u001b[39m\u001b[38;5;124msartaj\u001b[39m\u001b[38;5;124m\"\u001b[39m\n",
      "\u001b[0;31mNameError\u001b[0m: name 'n' is not defined"
     ]
    }
   ],
   "source": [
    "n[0] = \"sartaj\""
   ]
  },
  {
   "cell_type": "code",
   "execution_count": null,
   "metadata": {},
   "outputs": [],
   "source": []
  }
 ],
 "metadata": {
  "kernelspec": {
   "display_name": "Python 3 (ipykernel)",
   "language": "python",
   "name": "python3"
  },
  "language_info": {
   "codemirror_mode": {
    "name": "ipython",
    "version": 3
   },
   "file_extension": ".py",
   "mimetype": "text/x-python",
   "name": "python",
   "nbconvert_exporter": "python",
   "pygments_lexer": "ipython3",
   "version": "3.10.8"
  }
 },
 "nbformat": 4,
 "nbformat_minor": 4
}
